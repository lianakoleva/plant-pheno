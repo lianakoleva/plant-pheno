{
  "cells": [
    {
      "cell_type": "code",
      "execution_count": null,
      "id": "4a44a3fc",
      "metadata": {
        "id": "4a44a3fc",
        "outputId": "30ab38f8-7c85-48eb-ee55-eb7271b255fb"
      },
      "outputs": [
        {
          "name": "stderr",
          "output_type": "stream",
          "text": [
            "Using cache found in /home/liana_e_koleva/.cache/torch/hub/pytorch_vision_v0.10.0\n"
          ]
        },
        {
          "data": {
            "text/plain": [
              "AlexNet(\n",
              "  (features): Sequential(\n",
              "    (0): Conv2d(3, 64, kernel_size=(11, 11), stride=(4, 4), padding=(2, 2))\n",
              "    (1): ReLU(inplace=True)\n",
              "    (2): MaxPool2d(kernel_size=3, stride=2, padding=0, dilation=1, ceil_mode=False)\n",
              "    (3): Conv2d(64, 192, kernel_size=(5, 5), stride=(1, 1), padding=(2, 2))\n",
              "    (4): ReLU(inplace=True)\n",
              "    (5): MaxPool2d(kernel_size=3, stride=2, padding=0, dilation=1, ceil_mode=False)\n",
              "    (6): Conv2d(192, 384, kernel_size=(3, 3), stride=(1, 1), padding=(1, 1))\n",
              "    (7): ReLU(inplace=True)\n",
              "    (8): Conv2d(384, 256, kernel_size=(3, 3), stride=(1, 1), padding=(1, 1))\n",
              "    (9): ReLU(inplace=True)\n",
              "    (10): Conv2d(256, 256, kernel_size=(3, 3), stride=(1, 1), padding=(1, 1))\n",
              "    (11): ReLU(inplace=True)\n",
              "    (12): MaxPool2d(kernel_size=3, stride=2, padding=0, dilation=1, ceil_mode=False)\n",
              "  )\n",
              "  (avgpool): AdaptiveAvgPool2d(output_size=(6, 6))\n",
              "  (classifier): Sequential(\n",
              "    (0): Dropout(p=0.5, inplace=False)\n",
              "    (1): Linear(in_features=9216, out_features=4096, bias=True)\n",
              "    (2): ReLU(inplace=True)\n",
              "    (3): Dropout(p=0.5, inplace=False)\n",
              "    (4): Linear(in_features=4096, out_features=4096, bias=True)\n",
              "    (5): ReLU(inplace=True)\n",
              "    (6): Linear(in_features=4096, out_features=5, bias=True)\n",
              "  )\n",
              ")"
            ]
          },
          "execution_count": 2,
          "metadata": {},
          "output_type": "execute_result"
        }
      ],
      "source": [
        "import torch\n",
        "import numpy as np\n",
        "import torch.nn as nn\n",
        "\n",
        "\n",
        "device = torch.device(\"cuda:0\" if torch.cuda.is_available() else \"cpu\")\n",
        "model = torch.hub.load('pytorch/vision:v0.10.0', 'alexnet', pretrained=False)\n",
        "\n",
        "# https://discuss.pytorch.org/t/how-to-modify-the-final-fc-layer-based-on-the-torch-model/766/11\n",
        "model.classifier._modules['6'] = nn.Linear(4096, 5)\n",
        "model.eval()"
      ]
    },
    {
      "cell_type": "code",
      "execution_count": null,
      "id": "e11140b7",
      "metadata": {
        "id": "e11140b7"
      },
      "outputs": [],
      "source": [
        "def remove_suffix(input_string, suffix):\n",
        "    if suffix and input_string.endswith(suffix):\n",
        "        return input_string[:-len(suffix)]\n",
        "    return input_string\n"
      ]
    },
    {
      "cell_type": "code",
      "execution_count": null,
      "id": "7d9b02f3",
      "metadata": {
        "id": "7d9b02f3"
      },
      "outputs": [],
      "source": [
        "def create_labels(path):\n",
        "    labels = dict()\n",
        "    with open(path + \"Metadata.csv\", \"r\") as f:\n",
        "        reader = csv.reader(f, delimiter=\"\\t\")\n",
        "        for i, line in enumerate(reader):\n",
        "            line = line[0].split(',') # split string into categories\n",
        "            line[1] = line[1].lstrip() # clear whitespace\n",
        "            labels[line[0]] = line[1]\n",
        "    return labels"
      ]
    },
    {
      "cell_type": "code",
      "execution_count": null,
      "id": "7aae4de4",
      "metadata": {
        "id": "7aae4de4"
      },
      "outputs": [],
      "source": [
        "from collections import defaultdict\n",
        "from PIL import Image\n",
        "import csv\n",
        "import glob\n",
        "import os \n",
        "import shutil\n",
        "from custom_dataloader import CustomDataset, CLASSES\n",
        "\n",
        "\n",
        "labels_rpi = create_labels(\"Plant_Phenotyping_Datasets/Plant/Ara2013-RPi/\")\n",
        "labels_canon = create_labels(\"Plant_Phenotyping_Datasets/Plant/Ara2013-Canon/\")\n",
        "# with open(path_rpi + \"Metadata.csv\", \"r\") as f:\n",
        "#     reader = csv.reader(f, delimiter=\"\\t\")\n",
        "#     for i, line in enumerate(reader):\n",
        "#         line = line[0].split(',') # split string into categories\n",
        "#         line[1] = line[1].lstrip() # clear whitespace\n",
        "#         labels[line[0]] = line[1]\n",
        "\n",
        "#############################################################################\n",
        "# SPLIT IMAGES INTO DIRECTORIES BASED ON CLASS\n",
        "#############################################################################\n",
        "# Metadata.csv contains labels with keys ara2013_plant000 to ara2013_plant165\n",
        "# labels = dict()\n",
        "# with open(\"Metadata.csv\", \"r\") as f:\n",
        "#     reader = csv.reader(f, delimiter=\"\\t\")\n",
        "#     for i, line in enumerate(reader):\n",
        "#         line = line[0].split(',') # split string into categories\n",
        "#         line[1] = line[1].lstrip() # clear whitespace\n",
        "#         if line[1] not in labels:\n",
        "#             labels[line[1]] = [line[0]]\n",
        "#         else:   \n",
        "#             labels[line[1]].append(line[0])\n",
        "# print(labels)   \n",
        "\n",
        "# for label in labels:\n",
        "#     try:\n",
        "#         os.mkdir(label)\n",
        "#     except FileExistsError:\n",
        "#         print(\"already exists\")\n",
        "        \n",
        "#     for pngname in labels[label]:\n",
        "#         pngfile = pngname + \"_rgb.png\"\n",
        "#         shutil.copy(pngfile, label)   \n"
      ]
    },
    {
      "cell_type": "code",
      "execution_count": null,
      "id": "4f96babb",
      "metadata": {
        "id": "4f96babb"
      },
      "outputs": [],
      "source": [
        "def train_classifier(train_loader, classifier, criterion, optimizer):\n",
        "    classifier.train()\n",
        "    loss_ = 0.0\n",
        "    losses = []\n",
        "    for i, (images, labels) in enumerate(train_loader):\n",
        "        images, labels = images.to(device), labels.to(device)\n",
        "        optimizer.zero_grad()\n",
        "        logits = classifier(images)\n",
        "        loss = criterion(logits, labels)\n",
        "        loss.backward()\n",
        "        optimizer.step()\n",
        "        losses.append(loss)\n",
        "    return torch.stack(losses).mean().item()\n",
        "\n",
        "# def train_classifier(train_loader, classifier, criterion, optimizer):\n",
        "#     classifier.train()\n",
        "#     loss_ = 0.0\n",
        "#     losses = []\n",
        "#     for img_filename in glob.glob(\"*.png\"):\n",
        "#         # how to get image from img_filename?\n",
        "#         image = img_filename.to(device)\n",
        "        \n",
        "#         # get label from name\n",
        "#         name = remove_suffix(img_filename, \"_rgb.png\")\n",
        "#         label = labels[name].to(device)\n",
        "        \n",
        "#         optimizer.zero_grad()\n",
        "#         logits.classifier(images)\n",
        "#         loss = criterion(logits, label)\n",
        "#         loss.backward()\n",
        "#         optimizer.step()\n",
        "#         losses.append(loss)\n",
        "        \n",
        "#     return torch.stack(losses).mean().item()"
      ]
    },
    {
      "cell_type": "code",
      "execution_count": null,
      "id": "9598a8e9",
      "metadata": {
        "id": "9598a8e9"
      },
      "outputs": [],
      "source": [
        "def test_classifier(test_loader, classifier, criterion, print_ind_classes=True, print_total=True):\n",
        "    classifier.eval()\n",
        "    losses = []\n",
        "    with torch.no_grad():\n",
        "        y_true = np.zeros((0,5))\n",
        "        y_score = np.zeros((0,5))\n",
        "        for i, (images, labels) in enumerate(test_loader):\n",
        "            images, labels = images.to(device), labels.to(device)\n",
        "            logits = classifier(images)\n",
        "            y_true = np.concatenate((y_true, labels.cpu().numpy()), axis=0)\n",
        "            y_score = np.concatenate((y_score, logits.cpu().numpy()), axis=0)\n",
        "            loss = criterion(logits, labels)\n",
        "            losses.append(loss.item())\n",
        "        aps = []\n",
        "        # ignore first class which is background\n",
        "        for i in range(1, y_true.shape[1]):\n",
        "            ap = average_precision_score(y_true[:, i], y_score[:, i])\n",
        "            if print_ind_classes:\n",
        "                print('-------  Class: {:<12}     AP: {:>8.4f}  -------'.format(CLASSES[i], ap))\n",
        "            aps.append(ap)\n",
        "        \n",
        "        mAP = np.mean(aps)\n",
        "        test_loss = np.mean(losses)\n",
        "        if print_total:\n",
        "            print('mAP: {0:.4f}'.format(mAP))\n",
        "            print('Avg loss: {}'.format(test_loss))\n",
        "        \n",
        "    return mAP, test_loss, aps"
      ]
    },
    {
      "cell_type": "code",
      "execution_count": null,
      "id": "018e6a80",
      "metadata": {
        "id": "018e6a80"
      },
      "outputs": [],
      "source": [
        "def plot_losses(train, val, test_frequency, num_epochs):\n",
        "    plt.plot(train, label=\"train\")\n",
        "    indices = [i for i in range(num_epochs) if ((i+1)%test_frequency == 0 or i ==0)]\n",
        "    plt.plot(indices, val, label=\"val\")\n",
        "    plt.title(\"Loss Plot\")\n",
        "    plt.ylabel(\"Loss\")\n",
        "    plt.xlabel(\"Epoch\")\n",
        "    plt.legend()\n",
        "    plt.show()\n",
        "    \n",
        "def plot_mAP(train, val, test_frequency, num_epochs):\n",
        "    indices = [i for i in range(num_epochs) if ((i+1)%test_frequency == 0 or i ==0)]\n",
        "    plt.plot(indices, train, label=\"train\")\n",
        "    plt.plot(indices, val, label=\"val\")\n",
        "    plt.title(\"mAP Plot\")\n",
        "    plt.ylabel(\"mAP\")\n",
        "    plt.xlabel(\"Epoch\")\n",
        "    plt.legend()\n",
        "    plt.show()   "
      ]
    },
    {
      "cell_type": "code",
      "execution_count": null,
      "id": "921b9e8f",
      "metadata": {
        "id": "921b9e8f"
      },
      "outputs": [],
      "source": [
        "def train(classifier, num_epochs, train_loader, val_loader, criterion, optimizer, test_frequency=5):\n",
        "    train_losses = []\n",
        "    train_mAPs = []\n",
        "    val_losses = []\n",
        "    val_mAPs = []\n",
        "\n",
        "    for epoch in range(1,num_epochs+1):\n",
        "        print(\"Starting epoch number \" + str(epoch))\n",
        "        train_loss = train_classifier(train_loader, classifier, criterion, optimizer)\n",
        "        train_losses.append(train_loss)\n",
        "        print(\"Loss for Training on Epoch \" +str(epoch) + \" is \"+ str(train_loss))\n",
        "        if(epoch%test_frequency==0 or epoch==1):\n",
        "            mAP_train, _, _ = test_classifier(train_loader, classifier, criterion, False, False)\n",
        "            train_mAPs.append(mAP_train)\n",
        "            mAP_val, val_loss, _ = test_classifier(val_loader, classifier, criterion)\n",
        "            print('Evaluating classifier')\n",
        "            print(\"Mean Precision Score for Testing on Epoch \" +str(epoch) + \" is \"+ str(mAP_val))\n",
        "            val_losses.append(val_loss)\n",
        "            val_mAPs.append(mAP_val)\n",
        "    \n",
        "    return classifier, train_losses, val_losses, train_mAPs, val_mAPs"
      ]
    },
    {
      "cell_type": "code",
      "execution_count": null,
      "id": "abd8057e",
      "metadata": {
        "id": "abd8057e"
      },
      "outputs": [],
      "source": [
        "import torchvision.transforms as transforms\n",
        "from torchvision.transforms.transforms import RandomResizedCrop\n",
        "from torch.utils.data import random_split\n",
        "device = torch.device(\"cuda:0\" if torch.cuda.is_available() else \"cpu\")\n",
        "\n",
        "normalize = transforms.Normalize(mean=[0.485, 0.456, 0.406],\n",
        "                                     std= [0.229, 0.224, 0.225]) # is this custom to the mp3 data? \n",
        "\n",
        "# you should use the torchvision.transforms module to try adding \n",
        "# random resized crops and horizontal flips of the input data\n",
        "\n",
        "# check transforms.RandomResizedCrop and transforms.RandomHorizontalFlip \n",
        "\n",
        "# feel free to apply more transforms for data augmentation \n",
        "# which can lead to better performance\n",
        "\n",
        "train_transform = transforms.Compose([\n",
        "            transforms.Resize(227),\n",
        "            transforms.CenterCrop(227),\n",
        "            transforms.RandomResizedCrop(227), # suggested add\n",
        "            transforms.RandomHorizontalFlip(), # suggested add\n",
        "            # transforms.RandomRotation(180), # self add\n",
        "            transforms.ToTensor(),\n",
        "            normalize\n",
        "        ])\n",
        "\n",
        "test_transform = transforms.Compose([\n",
        "            transforms.Resize(227),\n",
        "            transforms.CenterCrop(227),\n",
        "            transforms.RandomResizedCrop(227), # suggested add\n",
        "            transforms.RandomHorizontalFlip(), # suggested add\n",
        "            # transforms.RandomRotation(180), # self add\n",
        "            transforms.ToTensor(),\n",
        "            normalize,\n",
        "        ])\n",
        "\n",
        "trainval = CustomDataset(\"Plant_Phenotyping_Datasets/Plant/Ara2013-RPi/\", labels_rpi)\n",
        "ds_train, ds_val = random_split(trainval, [140, 25])\n",
        "ds_test = CustomDataset(\"Plant_Phenotyping_Datasets/Plant/Ara2013-Canon/\", labels_canon)\n",
        "\n",
        "# ds_train = VocDataset('VOCdevkit_2007/VOC2007/','train',train_transform)\n",
        "# ds_val = VocDataset('VOCdevkit_2007/VOC2007/','val',test_transform)\n",
        "# ds_test = VocDataset('VOCdevkit_2007/VOC2007test/','test', test_transform)"
      ]
    },
    {
      "cell_type": "code",
      "execution_count": null,
      "id": "08a4a5e2",
      "metadata": {
        "id": "08a4a5e2"
      },
      "outputs": [],
      "source": [
        "num_epochs = 50\n",
        "test_frequency = 5\n",
        "batch_size = 64\n",
        "\n",
        "train_loader = torch.utils.data.DataLoader(dataset=ds_train,\n",
        "                                               batch_size=batch_size, \n",
        "                                               shuffle=True,\n",
        "                                               num_workers=1)\n",
        "\n",
        "val_loader = torch.utils.data.DataLoader(dataset=ds_val,\n",
        "                                               batch_size=batch_size, \n",
        "                                               shuffle=True,\n",
        "                                               num_workers=1)\n",
        "\n",
        "test_loader = torch.utils.data.DataLoader(dataset=ds_test,\n",
        "                                               batch_size=batch_size, \n",
        "                                               shuffle=False,\n",
        "                                               num_workers=1)"
      ]
    },
    {
      "cell_type": "code",
      "execution_count": null,
      "id": "f2b1d0b1",
      "metadata": {
        "id": "f2b1d0b1",
        "outputId": "4cbb7dbc-9ae5-4199-823b-2ee6b58128a2"
      },
      "outputs": [
        {
          "name": "stdout",
          "output_type": "stream",
          "text": [
            "Starting epoch number 1\n",
            "Loss for Training on Epoch 1 is 0.5786656141281128\n",
            "-------  Class: ctr              AP:   1.0000  -------\n",
            "-------  Class: Col-0            AP:   0.4206  -------\n",
            "-------  Class: pgm              AP:   0.4454  -------\n",
            "-------  Class: adh1             AP:   0.1488  -------\n",
            "mAP: 0.5037\n",
            "Avg loss: 0.5236824750900269\n",
            "Evaluating classifier\n",
            "Mean Precision Score for Testing on Epoch 1 is 0.5036927784187557\n",
            "Starting epoch number 2\n",
            "Loss for Training on Epoch 2 is 0.49314042925834656\n",
            "Starting epoch number 3\n",
            "Loss for Training on Epoch 3 is 0.47220033407211304\n",
            "Starting epoch number 4\n",
            "Loss for Training on Epoch 4 is 0.44112151861190796\n",
            "Starting epoch number 5\n",
            "Loss for Training on Epoch 5 is 0.39543241262435913\n",
            "-------  Class: ctr              AP:   0.9500  -------\n",
            "-------  Class: Col-0            AP:   0.2310  -------\n",
            "-------  Class: pgm              AP:   0.5063  -------\n",
            "-------  Class: adh1             AP:   0.7708  -------\n",
            "mAP: 0.6145\n",
            "Avg loss: 0.34701141715049744\n",
            "Evaluating classifier\n",
            "Mean Precision Score for Testing on Epoch 5 is 0.6145337301587301\n",
            "Starting epoch number 6\n",
            "Loss for Training on Epoch 6 is 0.33644530177116394\n",
            "Starting epoch number 7\n",
            "Loss for Training on Epoch 7 is 0.38909757137298584\n",
            "Starting epoch number 8\n",
            "Loss for Training on Epoch 8 is 0.3034592866897583\n",
            "Starting epoch number 9\n",
            "Loss for Training on Epoch 9 is 0.24667540192604065\n",
            "Starting epoch number 10\n",
            "Loss for Training on Epoch 10 is 0.2501130700111389\n",
            "-------  Class: ctr              AP:   0.9500  -------\n",
            "-------  Class: Col-0            AP:   0.3472  -------\n",
            "-------  Class: pgm              AP:   0.7247  -------\n",
            "-------  Class: adh1             AP:   0.8042  -------\n",
            "mAP: 0.7065\n",
            "Avg loss: 0.3018770217895508\n",
            "Evaluating classifier\n",
            "Mean Precision Score for Testing on Epoch 10 is 0.7065340909090908\n",
            "Starting epoch number 11\n",
            "Loss for Training on Epoch 11 is 0.20367678999900818\n",
            "Starting epoch number 12\n",
            "Loss for Training on Epoch 12 is 0.16324523091316223\n",
            "Starting epoch number 13\n",
            "Loss for Training on Epoch 13 is 0.18517260253429413\n",
            "Starting epoch number 14\n",
            "Loss for Training on Epoch 14 is 0.11483465135097504\n",
            "Starting epoch number 15\n",
            "Loss for Training on Epoch 15 is 0.09985083341598511\n",
            "-------  Class: ctr              AP:   1.0000  -------\n",
            "-------  Class: Col-0            AP:   0.7576  -------\n",
            "-------  Class: pgm              AP:   0.8042  -------\n",
            "-------  Class: adh1             AP:   0.8875  -------\n",
            "mAP: 0.8623\n",
            "Avg loss: 0.26035505533218384\n",
            "Evaluating classifier\n",
            "Mean Precision Score for Testing on Epoch 15 is 0.8623176922284066\n",
            "Starting epoch number 16\n",
            "Loss for Training on Epoch 16 is 0.07827040553092957\n",
            "Starting epoch number 17\n",
            "Loss for Training on Epoch 17 is 0.09991537034511566\n",
            "Starting epoch number 18\n",
            "Loss for Training on Epoch 18 is 0.06397192180156708\n",
            "Starting epoch number 19\n",
            "Loss for Training on Epoch 19 is 0.09039664268493652\n",
            "Starting epoch number 20\n",
            "Loss for Training on Epoch 20 is 0.09959298372268677\n",
            "-------  Class: ctr              AP:   1.0000  -------\n",
            "-------  Class: Col-0            AP:   1.0000  -------\n",
            "-------  Class: pgm              AP:   0.8885  -------\n",
            "-------  Class: adh1             AP:   1.0000  -------\n",
            "mAP: 0.9721\n",
            "Avg loss: 0.1403099000453949\n",
            "Evaluating classifier\n",
            "Mean Precision Score for Testing on Epoch 20 is 0.9721320346320346\n",
            "Starting epoch number 21\n",
            "Loss for Training on Epoch 21 is 0.043136291205883026\n",
            "Starting epoch number 22\n",
            "Loss for Training on Epoch 22 is 0.049717795103788376\n",
            "Starting epoch number 23\n",
            "Loss for Training on Epoch 23 is 0.06346233189105988\n",
            "Starting epoch number 24\n",
            "Loss for Training on Epoch 24 is 0.030972987413406372\n",
            "Starting epoch number 25\n",
            "Loss for Training on Epoch 25 is 0.02241424284875393\n",
            "-------  Class: ctr              AP:   1.0000  -------\n",
            "-------  Class: Col-0            AP:   1.0000  -------\n",
            "-------  Class: pgm              AP:   0.8955  -------\n",
            "-------  Class: adh1             AP:   1.0000  -------\n",
            "mAP: 0.9739\n",
            "Avg loss: 0.2658005356788635\n",
            "Evaluating classifier\n",
            "Mean Precision Score for Testing on Epoch 25 is 0.9738662131519275\n",
            "Starting epoch number 26\n",
            "Loss for Training on Epoch 26 is 0.02155289612710476\n",
            "Starting epoch number 27\n",
            "Loss for Training on Epoch 27 is 0.015698863193392754\n",
            "Starting epoch number 28\n",
            "Loss for Training on Epoch 28 is 0.015900282189249992\n",
            "Starting epoch number 29\n",
            "Loss for Training on Epoch 29 is 0.024244438856840134\n",
            "Starting epoch number 30\n",
            "Loss for Training on Epoch 30 is 0.03524753078818321\n",
            "-------  Class: ctr              AP:   1.0000  -------\n",
            "-------  Class: Col-0            AP:   1.0000  -------\n",
            "-------  Class: pgm              AP:   0.8274  -------\n",
            "-------  Class: adh1             AP:   1.0000  -------\n",
            "mAP: 0.9568\n",
            "Avg loss: 0.1751294732093811\n",
            "Evaluating classifier\n",
            "Mean Precision Score for Testing on Epoch 30 is 0.9568452380952381\n",
            "Starting epoch number 31\n",
            "Loss for Training on Epoch 31 is 0.02410878613591194\n",
            "Starting epoch number 32\n",
            "Loss for Training on Epoch 32 is 0.009464142844080925\n",
            "Starting epoch number 33\n",
            "Loss for Training on Epoch 33 is 0.011385740712285042\n",
            "Starting epoch number 34\n",
            "Loss for Training on Epoch 34 is 0.020565267652273178\n",
            "Starting epoch number 35\n",
            "Loss for Training on Epoch 35 is 0.018385399132966995\n",
            "-------  Class: ctr              AP:   1.0000  -------\n",
            "-------  Class: Col-0            AP:   1.0000  -------\n",
            "-------  Class: pgm              AP:   0.9094  -------\n",
            "-------  Class: adh1             AP:   1.0000  -------\n",
            "mAP: 0.9773\n",
            "Avg loss: 0.3377182185649872\n",
            "Evaluating classifier\n",
            "Mean Precision Score for Testing on Epoch 35 is 0.9773384353741497\n",
            "Starting epoch number 36\n",
            "Loss for Training on Epoch 36 is 0.009294501505792141\n",
            "Starting epoch number 37\n",
            "Loss for Training on Epoch 37 is 0.013657813891768456\n",
            "Starting epoch number 38\n",
            "Loss for Training on Epoch 38 is 0.004117165692150593\n",
            "Starting epoch number 39\n",
            "Loss for Training on Epoch 39 is 0.007702779024839401\n",
            "Starting epoch number 40\n",
            "Loss for Training on Epoch 40 is 0.004975091200321913\n",
            "-------  Class: ctr              AP:   1.0000  -------\n",
            "-------  Class: Col-0            AP:   1.0000  -------\n",
            "-------  Class: pgm              AP:   0.7775  -------\n",
            "-------  Class: adh1             AP:   1.0000  -------\n",
            "mAP: 0.9444\n",
            "Avg loss: 0.3141496479511261\n",
            "Evaluating classifier\n",
            "Mean Precision Score for Testing on Epoch 40 is 0.9443746729461016\n",
            "Starting epoch number 41\n",
            "Loss for Training on Epoch 41 is 0.003842730075120926\n",
            "Starting epoch number 42\n",
            "Loss for Training on Epoch 42 is 0.005231444723904133\n",
            "Starting epoch number 43\n",
            "Loss for Training on Epoch 43 is 0.0010994176845997572\n",
            "Starting epoch number 44\n",
            "Loss for Training on Epoch 44 is 0.0021756556816399097\n",
            "Starting epoch number 45\n",
            "Loss for Training on Epoch 45 is 0.0013669178588315845\n",
            "-------  Class: ctr              AP:   1.0000  -------\n",
            "-------  Class: Col-0            AP:   1.0000  -------\n",
            "-------  Class: pgm              AP:   0.9094  -------\n",
            "-------  Class: adh1             AP:   1.0000  -------\n",
            "mAP: 0.9773\n",
            "Avg loss: 0.2036563754081726\n",
            "Evaluating classifier\n",
            "Mean Precision Score for Testing on Epoch 45 is 0.9773384353741497\n",
            "Starting epoch number 46\n",
            "Loss for Training on Epoch 46 is 0.0002749161212705076\n",
            "Starting epoch number 47\n",
            "Loss for Training on Epoch 47 is 0.0011501929257065058\n",
            "Starting epoch number 48\n",
            "Loss for Training on Epoch 48 is 0.0001409562537446618\n",
            "Starting epoch number 49\n",
            "Loss for Training on Epoch 49 is 0.00028791389195248485\n",
            "Starting epoch number 50\n",
            "Loss for Training on Epoch 50 is 0.0006592193385586143\n",
            "-------  Class: ctr              AP:   1.0000  -------\n",
            "-------  Class: Col-0            AP:   1.0000  -------\n",
            "-------  Class: pgm              AP:   0.9094  -------\n",
            "-------  Class: adh1             AP:   1.0000  -------\n",
            "mAP: 0.9773\n",
            "Avg loss: 0.27491432428359985\n",
            "Evaluating classifier\n",
            "Mean Precision Score for Testing on Epoch 50 is 0.9773384353741497\n"
          ]
        }
      ],
      "source": [
        "classifier = model.to(device)\n",
        "from sklearn.metrics import average_precision_score\n",
        "\n",
        "# classifier.load_state_dict(torch.load('voc_my_best_classifier.pth'))\n",
        "import torch.nn as nn\n",
        "\n",
        "criterion = nn.MultiLabelSoftMarginLoss()\n",
        "\n",
        "# instead of plain SGD, you may want to add a learning rate schedule, add momentum, \n",
        "# or use one of the other optimizers you have learned about like Adam\n",
        "# check the torch.optim package for other optimizers\n",
        "# optimizer = torch.optim.SGD(classifier.parameters(), lr=0.01, momentum=0.9)\n",
        "optimizer = torch.optim.Adam(classifier.parameters(), lr=1e-4)\n",
        "\n",
        "classifier, train_losses, val_losses, train_mAPs, val_mAPs = train(classifier, num_epochs, train_loader, val_loader, criterion, optimizer, test_frequency)\n"
      ]
    },
    {
      "cell_type": "code",
      "execution_count": null,
      "id": "90000398",
      "metadata": {
        "id": "90000398",
        "outputId": "ab180fee-36c9-4eee-85f2-48fb8ae69d68"
      },
      "outputs": [
        {
          "data": {
            "image/png": "[encoded data removed]",
            "text/plain": [
              "<Figure size 432x288 with 1 Axes>"
            ]
          },
          "metadata": {
            "needs_background": "light"
          },
          "output_type": "display_data"
        },
        {
          "data": {
            "image/png": "[encoded data removed]",
            "text/plain": [
              "<Figure size 432x288 with 1 Axes>"
            ]
          },
          "metadata": {
            "needs_background": "light"
          },
          "output_type": "display_data"
        }
      ],
      "source": [
        "import matplotlib.pyplot as plt\n",
        "plot_losses(train_losses, val_losses, test_frequency, num_epochs)\n",
        "plot_mAP(train_mAPs, val_mAPs, test_frequency, num_epochs)"
      ]
    },
    {
      "cell_type": "code",
      "execution_count": null,
      "id": "af924e23",
      "metadata": {
        "id": "af924e23",
        "outputId": "cee7659a-86f1-43a8-8cc1-2452713a65ca"
      },
      "outputs": [
        {
          "name": "stdout",
          "output_type": "stream",
          "text": [
            "-------  Class: ctr              AP:   1.0000  -------\n",
            "-------  Class: Col-0            AP:   0.9962  -------\n",
            "-------  Class: pgm              AP:   0.9364  -------\n",
            "-------  Class: adh1             AP:   1.0000  -------\n",
            "mAP: 0.9832\n",
            "Avg loss: 0.21127100785573324\n",
            "0.9831657978048484\n"
          ]
        }
      ],
      "source": [
        "mAP_test, test_loss, test_aps = test_classifier(test_loader, classifier, criterion)\n",
        "print(mAP_test)"
      ]
    },
    {
      "cell_type": "code",
      "execution_count": null,
      "id": "220d9190",
      "metadata": {
        "id": "220d9190",
        "outputId": "d5cbd584-3921-4b28-dba1-e9529be86efe"
      },
      "outputs": [
        {
          "ename": "NameError",
          "evalue": "name 'output_submission_csv' is not defined",
          "output_type": "error",
          "traceback": [
            "\u001b[0;31m---------------------------------------------------------------------------\u001b[0m",
            "\u001b[0;31mNameError\u001b[0m                                 Traceback (most recent call last)",
            "\u001b[0;32m/tmp/ipykernel_7962/718174793.py\u001b[0m in \u001b[0;36m<module>\u001b[0;34m\u001b[0m\n\u001b[1;32m      1\u001b[0m \u001b[0mtorch\u001b[0m\u001b[0;34m.\u001b[0m\u001b[0msave\u001b[0m\u001b[0;34m(\u001b[0m\u001b[0mclassifier\u001b[0m\u001b[0;34m.\u001b[0m\u001b[0mstate_dict\u001b[0m\u001b[0;34m(\u001b[0m\u001b[0;34m)\u001b[0m\u001b[0;34m,\u001b[0m \u001b[0;34m'./voc_my_best_classifier.pth'\u001b[0m\u001b[0;34m)\u001b[0m\u001b[0;34m\u001b[0m\u001b[0;34m\u001b[0m\u001b[0m\n\u001b[0;32m----> 2\u001b[0;31m \u001b[0moutput_submission_csv\u001b[0m\u001b[0;34m(\u001b[0m\u001b[0;34m'my_solution.csv'\u001b[0m\u001b[0;34m,\u001b[0m \u001b[0mtest_aps\u001b[0m\u001b[0;34m)\u001b[0m\u001b[0;34m\u001b[0m\u001b[0;34m\u001b[0m\u001b[0m\n\u001b[0m",
            "\u001b[0;31mNameError\u001b[0m: name 'output_submission_csv' is not defined"
          ]
        }
      ],
      "source": [
        ""
      ]
    },
    {
      "cell_type": "code",
      "execution_count": null,
      "id": "70e79bfc",
      "metadata": {
        "id": "70e79bfc"
      },
      "outputs": [],
      "source": [
        ""
      ]
    }
  ],
  "metadata": {
    "kernelspec": {
      "display_name": "Python 3",
      "language": "python",
      "name": "python3"
    },
    "language_info": {
      "codemirror_mode": {
        "name": "ipython",
        "version": 3
      },
      "file_extension": ".py",
      "mimetype": "text/x-python",
      "name": "python",
      "nbconvert_exporter": "python",
      "pygments_lexer": "ipython3",
      "version": "3.7.12"
    },
    "colab": {
      "name": "alexnet-training.ipynb",
      "provenance": []
    }
  },
  "nbformat": 4,
  "nbformat_minor": 5
}